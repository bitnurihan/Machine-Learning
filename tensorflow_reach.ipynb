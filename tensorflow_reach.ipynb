{
  "nbformat": 4,
  "nbformat_minor": 0,
  "metadata": {
    "colab": {
      "name": "tensorflow_reach.ipynb",
      "provenance": [],
      "include_colab_link": true
    },
    "kernelspec": {
      "name": "python3",
      "display_name": "Python 3"
    }
  },
  "cells": [
    {
      "cell_type": "markdown",
      "metadata": {
        "id": "view-in-github",
        "colab_type": "text"
      },
      "source": [
        "<a href=\"https://colab.research.google.com/github/bitnurihan/Machine-Learning/blob/master/tensorflow_reach.ipynb\" target=\"_parent\"><img src=\"https://colab.research.google.com/assets/colab-badge.svg\" alt=\"Open In Colab\"/></a>"
      ]
    },
    {
      "cell_type": "code",
      "metadata": {
        "id": "ezR3ujmh440m",
        "colab_type": "code",
        "outputId": "2b4f7ef9-86d2-46e8-c77d-aefbc11ac886",
        "colab": {
          "base_uri": "https://localhost:8080/",
          "height": 82
        }
      },
      "source": [
        "from __future__ import absolute_import, division, print_function, unicode_literals, unicode_literals\n",
        "\n",
        "import pathlib\n",
        "\n",
        "import matplotlib.pyplot as plt\n",
        "import pandas as pd\n",
        "import seaborn as sns\n",
        "from sklearn.preprocessing import OneHotEncoder\n",
        "from sklearn.model_selection import train_test_split\n",
        "import tensorflow as tf\n",
        "from tensorflow import keras\n",
        "from tensorflow.keras import layers\n",
        "from sklearn.preprocessing import RobustScaler\n",
        "from sklearn import preprocessing\n",
        "import numpy as np\n",
        "print(tf.__version__)"
      ],
      "execution_count": 0,
      "outputs": [
        {
          "output_type": "display_data",
          "data": {
            "text/html": [
              "<p style=\"color: red;\">\n",
              "The default version of TensorFlow in Colab will soon switch to TensorFlow 2.x.<br>\n",
              "We recommend you <a href=\"https://www.tensorflow.org/guide/migrate\" target=\"_blank\">upgrade</a> now \n",
              "or ensure your notebook will continue to use TensorFlow 1.x via the <code>%tensorflow_version 1.x</code> magic:\n",
              "<a href=\"https://colab.research.google.com/notebooks/tensorflow_version.ipynb\" target=\"_blank\">more info</a>.</p>\n"
            ],
            "text/plain": [
              "<IPython.core.display.HTML object>"
            ]
          },
          "metadata": {
            "tags": []
          }
        },
        {
          "output_type": "stream",
          "text": [
            "1.15.0\n"
          ],
          "name": "stdout"
        }
      ]
    },
    {
      "cell_type": "code",
      "metadata": {
        "id": "QiMYDSeo5Cp9",
        "colab_type": "code",
        "colab": {}
      },
      "source": [
        "def build_model(train):\n",
        "  model = keras.Sequential([\n",
        "    layers.Dense(128, activation='relu', input_shape=[len(train.keys())]),\n",
        "    layers.Dense(64, activation='relu'),\n",
        "    layers.Dense(1)\n",
        "  ])\n",
        "\n",
        "  model.compile(loss='mse',\n",
        "                optimizer='adam',\n",
        "                metrics=['mae', 'mse'])\n",
        "  return model"
      ],
      "execution_count": 0,
      "outputs": []
    },
    {
      "cell_type": "code",
      "metadata": {
        "id": "_dZhT4r05EI9",
        "colab_type": "code",
        "colab": {}
      },
      "source": [
        "class PrintDot(keras.callbacks.Callback):\n",
        "  def on_epoch_end(self, epoch, logs):\n",
        "    if epoch % 100 == 0: print('')\n",
        "    print('.', end='')"
      ],
      "execution_count": 0,
      "outputs": []
    },
    {
      "cell_type": "code",
      "metadata": {
        "id": "Ve72-wKg5Fqp",
        "colab_type": "code",
        "colab": {}
      },
      "source": [
        "import matplotlib.pyplot as plt\n",
        "\n",
        "def plot_history(history):\n",
        "  hist = pd.DataFrame(history.history)\n",
        "  hist['epoch'] = history.epoch\n",
        "\n",
        "  plt.figure(figsize=(8,12))\n",
        "\n",
        "  plt.subplot(2,1,1)\n",
        "  plt.xlabel('Epoch')\n",
        "  plt.ylabel('Mean Abs Error [MPG]')\n",
        "  plt.plot(hist['epoch'], hist['mean_absolute_error'],\n",
        "           label='Train Error')\n",
        "  plt.plot(hist['epoch'], hist['val_mean_absolute_error'],\n",
        "           label = 'Val Error')\n",
        "\n",
        "  plt.legend()\n",
        "\n",
        "  plt.subplot(2,1,2)\n",
        "  plt.xlabel('Epoch')\n",
        "  plt.ylabel('Mean Square Error [$MPG^2$]')\n",
        "  plt.plot(hist['epoch'], hist['mean_squared_error'],\n",
        "           label='Train Error')\n",
        "  plt.plot(hist['epoch'], hist['val_mean_squared_error'],\n",
        "           label = 'Val Error')\n",
        "\n",
        "  plt.legend()\n",
        "  plt.show()\n"
      ],
      "execution_count": 0,
      "outputs": []
    },
    {
      "cell_type": "code",
      "metadata": {
        "id": "ypJCupST4-MJ",
        "colab_type": "code",
        "outputId": "1f9c2683-3af2-4e60-b429-6e6921ae0f92",
        "colab": {
          "base_uri": "https://localhost:8080/",
          "height": 107
        }
      },
      "source": [
        "df = pd.read_csv('MLraw_data_group_period_separate.csv')\n",
        "df['target'] = df['target'].astype('category')\n",
        "df['channel'] = df['channel'].astype('category')\n",
        "df['cost_log'] = np.log(df['cost']+1)\n",
        "df['grp_log'] = np.log(df['grp']+1)\n",
        "df = df.drop(columns='grp')\n",
        "# sns.kdeplot(df['cost'])\n",
        "X = pd.get_dummies(df, prefix_sep='_')\n",
        "\n",
        "train, test = train_test_split(X, test_size=0.2)\n",
        "\n",
        "train_labels = train.pop('reach_per')\n",
        "test_labels = test.pop('reach_per')\n",
        "\n",
        "cost_labels = train.pop('cost')\n",
        "cost_test_labels = test.pop('cost')\n",
        "train.columns"
      ],
      "execution_count": 0,
      "outputs": [
        {
          "output_type": "execute_result",
          "data": {
            "text/plain": [
              "Index(['month', 'cost_log', 'grp_log', 'channel_CJE&M', 'channel_KBSN',\n",
              "       'channel_MBCPLUS', 'channel_SBS미디어넷', 'channel_etc', 'channel_종합편성채널',\n",
              "       'channel_지상파3개채널', 'target_769', 'target_1019', 'target_2029',\n",
              "       'target_3039', 'target_4049', 'target_5059', 'target_6069'],\n",
              "      dtype='object')"
            ]
          },
          "metadata": {
            "tags": []
          },
          "execution_count": 106
        }
      ]
    },
    {
      "cell_type": "code",
      "metadata": {
        "id": "q3YMoQ1Mc48o",
        "colab_type": "code",
        "outputId": "c65130ee-fc32-402a-fea1-cc1da3c1db95",
        "colab": {
          "base_uri": "https://localhost:8080/",
          "height": 251
        }
      },
      "source": [
        "scaler = RobustScaler()\n",
        "X_train_scaled = scaler.fit_transform(train)\n",
        "X_test_scaled = scaler.transform(test)\n",
        "X_train_scaled"
      ],
      "execution_count": 0,
      "outputs": [
        {
          "output_type": "execute_result",
          "data": {
            "text/plain": [
              "array([[ 0.        ,  0.08864743, -0.29176363, ...,  0.        ,\n",
              "         0.        ,  1.        ],\n",
              "       [ 0.        ,  1.44187904,  1.18679751, ...,  0.        ,\n",
              "         0.        ,  1.        ],\n",
              "       [ 0.        ,  0.93011189,  0.87852626, ...,  0.        ,\n",
              "         0.        ,  0.        ],\n",
              "       ...,\n",
              "       [ 0.        ,  0.03732039,  0.12798143, ...,  0.        ,\n",
              "         0.        ,  0.        ],\n",
              "       [ 1.        , -0.99913622, -0.7416089 , ...,  0.        ,\n",
              "         0.        ,  0.        ],\n",
              "       [ 0.        ,  0.82137388,  0.68914866, ...,  0.        ,\n",
              "         0.        ,  1.        ]])"
            ]
          },
          "metadata": {
            "tags": []
          },
          "execution_count": 107
        }
      ]
    },
    {
      "cell_type": "code",
      "metadata": {
        "id": "HpHBRU595BrR",
        "colab_type": "code",
        "outputId": "f3284d8c-c433-4c2f-a822-aecf58b1ba29",
        "colab": {
          "base_uri": "https://localhost:8080/",
          "height": 721
        }
      },
      "source": [
        "reach_train = pd.DataFrame(X_train_scaled, columns=['month', 'cost', 'grp', 'channel_CJE&M', 'channel_KBSN',\n",
        "       'channel_MBCPLUS', 'channel_SBS미디어넷', 'channel_etc', 'channel_종합편성채널',\n",
        "       'channel_지상파3개채널', 'target_769', 'target_1019', 'target_2029',\n",
        "       'target_3039', 'target_4049', 'target_5059', 'target_6069'])\n",
        "reach_test = pd.DataFrame(X_test_scaled, columns=['month', 'cost', 'grp', 'channel_CJE&M', 'channel_KBSN',\n",
        "       'channel_MBCPLUS', 'channel_SBS미디어넷', 'channel_etc', 'channel_종합편성채널',\n",
        "       'channel_지상파3개채널', 'target_769', 'target_1019', 'target_2029',\n",
        "       'target_3039', 'target_4049', 'target_5059', 'target_6069'])\n",
        "# sns.kdeplot(reach_train['grp'])\n",
        "sns.kdeplot(reach_train['cost'])\n",
        "reach_test"
      ],
      "execution_count": 0,
      "outputs": [
        {
          "output_type": "execute_result",
          "data": {
            "text/html": [
              "<div>\n",
              "<style scoped>\n",
              "    .dataframe tbody tr th:only-of-type {\n",
              "        vertical-align: middle;\n",
              "    }\n",
              "\n",
              "    .dataframe tbody tr th {\n",
              "        vertical-align: top;\n",
              "    }\n",
              "\n",
              "    .dataframe thead th {\n",
              "        text-align: right;\n",
              "    }\n",
              "</style>\n",
              "<table border=\"1\" class=\"dataframe\">\n",
              "  <thead>\n",
              "    <tr style=\"text-align: right;\">\n",
              "      <th></th>\n",
              "      <th>month</th>\n",
              "      <th>cost</th>\n",
              "      <th>grp</th>\n",
              "      <th>channel_CJE&amp;M</th>\n",
              "      <th>channel_KBSN</th>\n",
              "      <th>channel_MBCPLUS</th>\n",
              "      <th>channel_SBS미디어넷</th>\n",
              "      <th>channel_etc</th>\n",
              "      <th>channel_종합편성채널</th>\n",
              "      <th>channel_지상파3개채널</th>\n",
              "      <th>target_769</th>\n",
              "      <th>target_1019</th>\n",
              "      <th>target_2029</th>\n",
              "      <th>target_3039</th>\n",
              "      <th>target_4049</th>\n",
              "      <th>target_5059</th>\n",
              "      <th>target_6069</th>\n",
              "    </tr>\n",
              "  </thead>\n",
              "  <tbody>\n",
              "    <tr>\n",
              "      <th>0</th>\n",
              "      <td>1.0</td>\n",
              "      <td>-0.831247</td>\n",
              "      <td>-0.693546</td>\n",
              "      <td>0.0</td>\n",
              "      <td>0.0</td>\n",
              "      <td>1.0</td>\n",
              "      <td>0.0</td>\n",
              "      <td>0.0</td>\n",
              "      <td>0.0</td>\n",
              "      <td>0.0</td>\n",
              "      <td>0.0</td>\n",
              "      <td>0.0</td>\n",
              "      <td>0.0</td>\n",
              "      <td>0.0</td>\n",
              "      <td>0.0</td>\n",
              "      <td>0.0</td>\n",
              "      <td>1.0</td>\n",
              "    </tr>\n",
              "    <tr>\n",
              "      <th>1</th>\n",
              "      <td>0.0</td>\n",
              "      <td>0.556222</td>\n",
              "      <td>0.691543</td>\n",
              "      <td>0.0</td>\n",
              "      <td>0.0</td>\n",
              "      <td>0.0</td>\n",
              "      <td>0.0</td>\n",
              "      <td>1.0</td>\n",
              "      <td>0.0</td>\n",
              "      <td>0.0</td>\n",
              "      <td>0.0</td>\n",
              "      <td>0.0</td>\n",
              "      <td>1.0</td>\n",
              "      <td>0.0</td>\n",
              "      <td>0.0</td>\n",
              "      <td>0.0</td>\n",
              "      <td>0.0</td>\n",
              "    </tr>\n",
              "    <tr>\n",
              "      <th>2</th>\n",
              "      <td>0.0</td>\n",
              "      <td>-3.004933</td>\n",
              "      <td>-1.654746</td>\n",
              "      <td>0.0</td>\n",
              "      <td>1.0</td>\n",
              "      <td>0.0</td>\n",
              "      <td>0.0</td>\n",
              "      <td>0.0</td>\n",
              "      <td>0.0</td>\n",
              "      <td>0.0</td>\n",
              "      <td>0.0</td>\n",
              "      <td>0.0</td>\n",
              "      <td>0.0</td>\n",
              "      <td>1.0</td>\n",
              "      <td>0.0</td>\n",
              "      <td>0.0</td>\n",
              "      <td>0.0</td>\n",
              "    </tr>\n",
              "    <tr>\n",
              "      <th>3</th>\n",
              "      <td>0.0</td>\n",
              "      <td>0.153536</td>\n",
              "      <td>0.071987</td>\n",
              "      <td>1.0</td>\n",
              "      <td>0.0</td>\n",
              "      <td>0.0</td>\n",
              "      <td>0.0</td>\n",
              "      <td>0.0</td>\n",
              "      <td>0.0</td>\n",
              "      <td>0.0</td>\n",
              "      <td>0.0</td>\n",
              "      <td>0.0</td>\n",
              "      <td>0.0</td>\n",
              "      <td>0.0</td>\n",
              "      <td>0.0</td>\n",
              "      <td>1.0</td>\n",
              "      <td>0.0</td>\n",
              "    </tr>\n",
              "    <tr>\n",
              "      <th>4</th>\n",
              "      <td>0.0</td>\n",
              "      <td>-0.948832</td>\n",
              "      <td>-1.117769</td>\n",
              "      <td>1.0</td>\n",
              "      <td>0.0</td>\n",
              "      <td>0.0</td>\n",
              "      <td>0.0</td>\n",
              "      <td>0.0</td>\n",
              "      <td>0.0</td>\n",
              "      <td>0.0</td>\n",
              "      <td>0.0</td>\n",
              "      <td>0.0</td>\n",
              "      <td>1.0</td>\n",
              "      <td>0.0</td>\n",
              "      <td>0.0</td>\n",
              "      <td>0.0</td>\n",
              "      <td>0.0</td>\n",
              "    </tr>\n",
              "    <tr>\n",
              "      <th>...</th>\n",
              "      <td>...</td>\n",
              "      <td>...</td>\n",
              "      <td>...</td>\n",
              "      <td>...</td>\n",
              "      <td>...</td>\n",
              "      <td>...</td>\n",
              "      <td>...</td>\n",
              "      <td>...</td>\n",
              "      <td>...</td>\n",
              "      <td>...</td>\n",
              "      <td>...</td>\n",
              "      <td>...</td>\n",
              "      <td>...</td>\n",
              "      <td>...</td>\n",
              "      <td>...</td>\n",
              "      <td>...</td>\n",
              "      <td>...</td>\n",
              "    </tr>\n",
              "    <tr>\n",
              "      <th>64596</th>\n",
              "      <td>0.0</td>\n",
              "      <td>-0.449883</td>\n",
              "      <td>-0.339120</td>\n",
              "      <td>0.0</td>\n",
              "      <td>0.0</td>\n",
              "      <td>0.0</td>\n",
              "      <td>1.0</td>\n",
              "      <td>0.0</td>\n",
              "      <td>0.0</td>\n",
              "      <td>0.0</td>\n",
              "      <td>0.0</td>\n",
              "      <td>0.0</td>\n",
              "      <td>0.0</td>\n",
              "      <td>1.0</td>\n",
              "      <td>0.0</td>\n",
              "      <td>0.0</td>\n",
              "      <td>0.0</td>\n",
              "    </tr>\n",
              "    <tr>\n",
              "      <th>64597</th>\n",
              "      <td>0.0</td>\n",
              "      <td>-1.307581</td>\n",
              "      <td>-1.224693</td>\n",
              "      <td>0.0</td>\n",
              "      <td>0.0</td>\n",
              "      <td>0.0</td>\n",
              "      <td>0.0</td>\n",
              "      <td>0.0</td>\n",
              "      <td>0.0</td>\n",
              "      <td>1.0</td>\n",
              "      <td>0.0</td>\n",
              "      <td>0.0</td>\n",
              "      <td>0.0</td>\n",
              "      <td>0.0</td>\n",
              "      <td>0.0</td>\n",
              "      <td>1.0</td>\n",
              "      <td>0.0</td>\n",
              "    </tr>\n",
              "    <tr>\n",
              "      <th>64598</th>\n",
              "      <td>0.0</td>\n",
              "      <td>-1.005768</td>\n",
              "      <td>-0.642789</td>\n",
              "      <td>0.0</td>\n",
              "      <td>0.0</td>\n",
              "      <td>0.0</td>\n",
              "      <td>1.0</td>\n",
              "      <td>0.0</td>\n",
              "      <td>0.0</td>\n",
              "      <td>0.0</td>\n",
              "      <td>0.0</td>\n",
              "      <td>0.0</td>\n",
              "      <td>0.0</td>\n",
              "      <td>0.0</td>\n",
              "      <td>0.0</td>\n",
              "      <td>0.0</td>\n",
              "      <td>1.0</td>\n",
              "    </tr>\n",
              "    <tr>\n",
              "      <th>64599</th>\n",
              "      <td>0.0</td>\n",
              "      <td>-0.029568</td>\n",
              "      <td>0.105597</td>\n",
              "      <td>0.0</td>\n",
              "      <td>0.0</td>\n",
              "      <td>0.0</td>\n",
              "      <td>0.0</td>\n",
              "      <td>0.0</td>\n",
              "      <td>1.0</td>\n",
              "      <td>0.0</td>\n",
              "      <td>0.0</td>\n",
              "      <td>0.0</td>\n",
              "      <td>0.0</td>\n",
              "      <td>0.0</td>\n",
              "      <td>0.0</td>\n",
              "      <td>0.0</td>\n",
              "      <td>1.0</td>\n",
              "    </tr>\n",
              "    <tr>\n",
              "      <th>64600</th>\n",
              "      <td>1.0</td>\n",
              "      <td>-0.697269</td>\n",
              "      <td>-0.520179</td>\n",
              "      <td>0.0</td>\n",
              "      <td>0.0</td>\n",
              "      <td>0.0</td>\n",
              "      <td>0.0</td>\n",
              "      <td>1.0</td>\n",
              "      <td>0.0</td>\n",
              "      <td>0.0</td>\n",
              "      <td>0.0</td>\n",
              "      <td>0.0</td>\n",
              "      <td>0.0</td>\n",
              "      <td>0.0</td>\n",
              "      <td>0.0</td>\n",
              "      <td>0.0</td>\n",
              "      <td>1.0</td>\n",
              "    </tr>\n",
              "  </tbody>\n",
              "</table>\n",
              "<p>64601 rows × 17 columns</p>\n",
              "</div>"
            ],
            "text/plain": [
              "       month      cost       grp  ...  target_4049  target_5059  target_6069\n",
              "0        1.0 -0.831247 -0.693546  ...          0.0          0.0          1.0\n",
              "1        0.0  0.556222  0.691543  ...          0.0          0.0          0.0\n",
              "2        0.0 -3.004933 -1.654746  ...          0.0          0.0          0.0\n",
              "3        0.0  0.153536  0.071987  ...          0.0          1.0          0.0\n",
              "4        0.0 -0.948832 -1.117769  ...          0.0          0.0          0.0\n",
              "...      ...       ...       ...  ...          ...          ...          ...\n",
              "64596    0.0 -0.449883 -0.339120  ...          0.0          0.0          0.0\n",
              "64597    0.0 -1.307581 -1.224693  ...          0.0          1.0          0.0\n",
              "64598    0.0 -1.005768 -0.642789  ...          0.0          0.0          1.0\n",
              "64599    0.0 -0.029568  0.105597  ...          0.0          0.0          1.0\n",
              "64600    1.0 -0.697269 -0.520179  ...          0.0          0.0          1.0\n",
              "\n",
              "[64601 rows x 17 columns]"
            ]
          },
          "metadata": {
            "tags": []
          },
          "execution_count": 108
        },
        {
          "output_type": "display_data",
          "data": {
            "image/png": "[encoded data removed]",
            "text/plain": [
              "<Figure size 432x288 with 1 Axes>"
            ]
          },
          "metadata": {
            "tags": []
          }
        }
      ]
    },
    {
      "cell_type": "code",
      "metadata": {
        "id": "rqnKgDdY5KGu",
        "colab_type": "code",
        "outputId": "3b0b4d51-ea1f-40b7-b8fb-3ba53103270f",
        "colab": {
          "base_uri": "https://localhost:8080/",
          "height": 269
        }
      },
      "source": [
        "model = build_model(reach_train)\n",
        "model.summary()"
      ],
      "execution_count": 0,
      "outputs": [
        {
          "output_type": "stream",
          "text": [
            "Model: \"sequential_6\"\n",
            "_________________________________________________________________\n",
            "Layer (type)                 Output Shape              Param #   \n",
            "=================================================================\n",
            "dense_18 (Dense)             (None, 128)               2304      \n",
            "_________________________________________________________________\n",
            "dense_19 (Dense)             (None, 64)                8256      \n",
            "_________________________________________________________________\n",
            "dense_20 (Dense)             (None, 1)                 65        \n",
            "=================================================================\n",
            "Total params: 10,625\n",
            "Trainable params: 10,625\n",
            "Non-trainable params: 0\n",
            "_________________________________________________________________\n"
          ],
          "name": "stdout"
        }
      ]
    },
    {
      "cell_type": "code",
      "metadata": {
        "id": "dVXeX9_N5MkV",
        "colab_type": "code",
        "outputId": "729c9e55-4629-4e2f-f5e3-741d96a7c1ac",
        "colab": {
          "base_uri": "https://localhost:8080/",
          "height": 197
        }
      },
      "source": [
        "example_batch = reach_train[:10]\n",
        "example_result = model.predict(example_batch)\n",
        "example_result"
      ],
      "execution_count": 0,
      "outputs": [
        {
          "output_type": "execute_result",
          "data": {
            "text/plain": [
              "array([[-0.09918516],\n",
              "       [-0.10962988],\n",
              "       [-0.24016389],\n",
              "       [-0.21700713],\n",
              "       [ 0.05935293],\n",
              "       [ 0.03977178],\n",
              "       [-0.0875279 ],\n",
              "       [-0.12985413],\n",
              "       [-0.26246542],\n",
              "       [-0.12199815]], dtype=float32)"
            ]
          },
          "metadata": {
            "tags": []
          },
          "execution_count": 110
        }
      ]
    },
    {
      "cell_type": "code",
      "metadata": {
        "id": "S48nMEgy5O7E",
        "colab_type": "code",
        "outputId": "bcce4f9f-7e5b-4305-d238-1bd56923f794",
        "colab": {
          "base_uri": "https://localhost:8080/",
          "height": 53
        }
      },
      "source": [
        "early_stop = keras.callbacks.EarlyStopping(monitor='val_loss', patience=10)\n",
        "EPOCHS = 100\n",
        "history = model.fit(reach_train, train_labels, epochs=EPOCHS,\n",
        "                    validation_split = 0.2, verbose=0, callbacks=[early_stop, PrintDot()])\n",
        "model.save('reach_model.h5')"
      ],
      "execution_count": 0,
      "outputs": [
        {
          "output_type": "stream",
          "text": [
            "\n",
            "...................................."
          ],
          "name": "stdout"
        }
      ]
    },
    {
      "cell_type": "code",
      "metadata": {
        "id": "VNkQO67k5Qmr",
        "colab_type": "code",
        "outputId": "9bccf44b-22cc-4eb0-a1c5-6bf447f55d8f",
        "colab": {
          "base_uri": "https://localhost:8080/",
          "height": 714
        }
      },
      "source": [
        "hist = pd.DataFrame(history.history)\n",
        "hist['epoch'] = history.epoch\n",
        "hist.tail()\n",
        "plot_history(history)"
      ],
      "execution_count": 0,
      "outputs": [
        {
          "output_type": "display_data",
          "data": {
            "image/png": "[encoded data removed]",
            "text/plain": [
              "<Figure size 576x864 with 2 Axes>"
            ]
          },
          "metadata": {
            "tags": []
          }
        }
      ]
    },
    {
      "cell_type": "code",
      "metadata": {
        "id": "gHXv5jdK5SDz",
        "colab_type": "code",
        "outputId": "b0c72f08-07ad-4dae-8424-df0cdc38297f",
        "colab": {
          "base_uri": "https://localhost:8080/",
          "height": 53
        }
      },
      "source": [
        "loss, mae, mse = model.evaluate(reach_test, test_labels, verbose=2)\n",
        "\n",
        "print(\"테스트 세트의 평균 절대 오차: {:5.2f} MPG\".format(mae))"
      ],
      "execution_count": 0,
      "outputs": [
        {
          "output_type": "stream",
          "text": [
            "64601/64601 - 2s - loss: 4.8589 - mean_absolute_error: 1.4217 - mean_squared_error: 4.8589\n",
            "테스트 세트의 평균 절대 오차:  1.42 MPG\n"
          ],
          "name": "stdout"
        }
      ]
    },
    {
      "cell_type": "code",
      "metadata": {
        "id": "t7vJoS5B5Un2",
        "colab_type": "code",
        "outputId": "8c37c893-ae5b-452f-f585-e137763bc146",
        "colab": {
          "base_uri": "https://localhost:8080/",
          "height": 298
        }
      },
      "source": [
        "test_predictions = model.predict(reach_test).flatten()\n",
        "\n",
        "plt.scatter(cost_test_labels, test_predictions)\n",
        "plt.xlabel('cost')\n",
        "plt.ylabel('reach')\n"
      ],
      "execution_count": 0,
      "outputs": [
        {
          "output_type": "execute_result",
          "data": {
            "text/plain": [
              "Text(0, 0.5, 'reach')"
            ]
          },
          "metadata": {
            "tags": []
          },
          "execution_count": 116
        },
        {
          "output_type": "display_data",
          "data": {
            "image/png": "[encoded data removed]",
            "text/plain": [
              "<Figure size 432x288 with 1 Axes>"
            ]
          },
          "metadata": {
            "tags": []
          }
        }
      ]
    },
    {
      "cell_type": "code",
      "metadata": {
        "id": "7ClvQgcn5dLp",
        "colab_type": "code",
        "outputId": "40b581d5-4722-4332-ceb7-ee62f08c3027",
        "colab": {
          "base_uri": "https://localhost:8080/",
          "height": 297
        }
      },
      "source": [
        "plt.scatter(cost_test_labels, test_labels)\n",
        "plt.xlabel('cost')\n",
        "plt.ylabel('reach')\n"
      ],
      "execution_count": 0,
      "outputs": [
        {
          "output_type": "execute_result",
          "data": {
            "text/plain": [
              "Text(0, 0.5, 'reach')"
            ]
          },
          "metadata": {
            "tags": []
          },
          "execution_count": 117
        },
        {
          "output_type": "display_data",
          "data": {
            "image/png": "[encoded data removed]",
            "text/plain": [
              "<Figure size 432x288 with 1 Axes>"
            ]
          },
          "metadata": {
            "tags": []
          }
        }
      ]
    },
    {
      "cell_type": "code",
      "metadata": {
        "id": "txnqBxqv6KDz",
        "colab_type": "code",
        "outputId": "608a734d-4414-4fc6-f871-c0499d10b953",
        "colab": {
          "base_uri": "https://localhost:8080/",
          "height": 332
        }
      },
      "source": [
        "reach_test2 = pd.read_csv('reach_test.csv')\n",
        "reach_test2 = reach_test2.drop(columns='Unnamed: 0')\n",
        "reach_test2['target'] = reach_test2['target'].astype('category')\n",
        "reach_test2['channel'] = reach_test2['channel'].astype('category')\n",
        "reach = pd.get_dummies(reach_test2, prefix_sep='_')\n",
        "reach['grp_log'] = np.log(reach['grp']+1)\n",
        "reach = reach.drop(columns='grp')\n",
        "cost_label = reach.pop('cost')\n",
        "reach = reach.fillna(0)\n",
        "reach\n",
        "reach = reach [['month', 'cost_log', 'grp_log', 'channel_CJE&M', 'channel_KBSN',\n",
        "       'channel_MBCPLUS', 'channel_SBS미디어넷', 'channel_etc', 'channel_종합편성채널',\n",
        "       'channel_지상파3개채널', 'target_769', 'target_1019', 'target_2029',\n",
        "       'target_3039', 'target_4049', 'target_5059', 'target_6069']]\n",
        "reach\n",
        "reach_test_scaled = scaler.transform(reach)\n",
        "reach_test_scaled\n",
        "reach_tester = pd.DataFrame(reach_test_scaled, columns=['month', 'cost', 'grp', 'channel_CJE&M', 'channel_KBSN',\n",
        "       'channel_MBCPLUS', 'channel_SBS미디어넷', 'channel_etc', 'channel_종합편성채널',\n",
        "       'channel_지상파3개채널', 'target_769', 'target_1019', 'target_2029',\n",
        "       'target_3039', 'target_4049', 'target_5059', 'target_6069'])\n",
        "reach_tester\n",
        "# # sns.kdeplot(cost_label)\n",
        "# # sns.kdeplot(reach_tester['grp'])\n",
        "test_reach_predictions = model.predict(reach_tester).flatten()\n",
        "reach_predict = pd.DataFrame(test_reach_predictions)\n",
        "reach_result = pd.concat([reach_test2, reach_predict], axis=1)\n",
        "reach_result = reach_result.rename(columns={0:'reach_per'})\n",
        "reach_result\n",
        "reach_result.to_csv('reach_result.csv')\n",
        "plt.scatter(cost_label, test_reach_predictions)\n",
        "plt.xlim(0, 10000000000)"
      ],
      "execution_count": 0,
      "outputs": [
        {
          "output_type": "stream",
          "text": [
            "/usr/local/lib/python3.6/dist-packages/pandas/core/series.py:856: RuntimeWarning: invalid value encountered in log\n",
            "  result = getattr(ufunc, method)(*inputs, **kwargs)\n"
          ],
          "name": "stderr"
        },
        {
          "output_type": "execute_result",
          "data": {
            "text/plain": [
              "(0, 10000000000)"
            ]
          },
          "metadata": {
            "tags": []
          },
          "execution_count": 125
        },
        {
          "output_type": "display_data",
          "data": {
            "image/png": "[encoded data removed]",
            "text/plain": [
              "<Figure size 432x288 with 1 Axes>"
            ]
          },
          "metadata": {
            "tags": []
          }
        }
      ]
    }
  ]
}