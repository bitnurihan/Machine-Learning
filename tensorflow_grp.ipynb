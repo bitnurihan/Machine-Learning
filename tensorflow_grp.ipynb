{
  "nbformat": 4,
  "nbformat_minor": 0,
  "metadata": {
    "colab": {
      "name": "tensorflow_grp.ipynb",
      "provenance": [],
      "collapsed_sections": [],
      "include_colab_link": true
    },
    "kernelspec": {
      "name": "python3",
      "display_name": "Python 3"
    },
    "accelerator": "TPU"
  },
  "cells": [
    {
      "cell_type": "markdown",
      "metadata": {
        "id": "view-in-github",
        "colab_type": "text"
      },
      "source": [
        "<a href=\"https://colab.research.google.com/github/bitnurihan/Machine-Learning/blob/master/tensorflow_grp.ipynb\" target=\"_parent\"><img src=\"https://colab.research.google.com/assets/colab-badge.svg\" alt=\"Open In Colab\"/></a>"
      ]
    },
    {
      "cell_type": "code",
      "metadata": {
        "id": "oz3E6AMQygwF",
        "colab_type": "code",
        "outputId": "0994de0a-2029-4f7e-d599-3e5eac49886c",
        "colab": {
          "base_uri": "https://localhost:8080/",
          "height": 35
        }
      },
      "source": [
        "from __future__ import absolute_import, division, print_function, unicode_literals, unicode_literals\n",
        "\n",
        "import pathlib\n",
        "\n",
        "import matplotlib.pyplot as plt\n",
        "import pandas as pd\n",
        "import seaborn as sns\n",
        "from sklearn.preprocessing import OneHotEncoder\n",
        "from sklearn.model_selection import train_test_split\n",
        "import tensorflow as tf\n",
        "from tensorflow import keras\n",
        "from tensorflow.keras import layers\n",
        "from sklearn.preprocessing import RobustScaler\n",
        "from sklearn import preprocessing\n",
        "from sklearn.model_selection import KFold\n",
        "import numpy as np\n",
        "print(tf.__version__)"
      ],
      "execution_count": 0,
      "outputs": [
        {
          "output_type": "stream",
          "text": [
            "1.15.0\n"
          ],
          "name": "stdout"
        }
      ]
    },
    {
      "cell_type": "code",
      "metadata": {
        "id": "avHX8qAm6EBE",
        "colab_type": "code",
        "colab": {}
      },
      "source": [
        "def build_grp_model(train):\n",
        "  model = keras.Sequential([\n",
        "    layers.Dense(128, activation='relu', input_shape=[len(train.keys())]),\n",
        "    layers.Dense(64, activation='relu'),\n",
        "    layers.Dense(1)\n",
        "  ])\n",
        "\n",
        "  # optimizer = tf.keras.optimizers.RMSprop(0.001)\n",
        "\n",
        "  model.compile(loss='mse',\n",
        "                optimizer='adam',\n",
        "                metrics=['mae', 'mse'])\n",
        "  return model"
      ],
      "execution_count": 0,
      "outputs": []
    },
    {
      "cell_type": "code",
      "metadata": {
        "id": "L6ImWQdO57HN",
        "colab_type": "code",
        "colab": {}
      },
      "source": [
        "import matplotlib.pyplot as plt\n",
        "\n",
        "def plot_history(history):\n",
        "  hist = pd.DataFrame(history.history)\n",
        "  hist['epoch'] = history.epoch\n",
        "\n",
        "  plt.figure(figsize=(8,12))\n",
        "\n",
        "  plt.subplot(2,1,1)\n",
        "  plt.xlabel('Epoch')\n",
        "  plt.ylabel('Mean Abs Error [MPG]')\n",
        "  plt.plot(hist['epoch'], hist['mean_absolute_error'],\n",
        "           label='Train Error')\n",
        "  plt.plot(hist['epoch'], hist['val_mean_absolute_error'],\n",
        "           label = 'Val Error')\n",
        "\n",
        "  plt.legend()\n",
        "\n",
        "  plt.subplot(2,1,2)\n",
        "  plt.xlabel('Epoch')\n",
        "  plt.ylabel('Mean Square Error [$MPG^2$]')\n",
        "  plt.plot(hist['epoch'], hist['mean_squared_error'],\n",
        "           label='Train Error')\n",
        "  plt.plot(hist['epoch'], hist['val_mean_squared_error'],\n",
        "           label = 'Val Error')\n",
        "\n",
        "  plt.legend()\n",
        "  plt.show()\n"
      ],
      "execution_count": 0,
      "outputs": []
    },
    {
      "cell_type": "code",
      "metadata": {
        "id": "Fg8DsAYEUUk_",
        "colab_type": "code",
        "colab": {}
      },
      "source": [
        "class PrintDot(keras.callbacks.Callback):\n",
        "  def on_epoch_end(self, epoch, logs):\n",
        "    if epoch % 100 == 0: print('')\n",
        "    print('.', end='')"
      ],
      "execution_count": 0,
      "outputs": []
    },
    {
      "cell_type": "code",
      "metadata": {
        "id": "kNzsAIZW7d1K",
        "colab_type": "code",
        "outputId": "951a5c9a-98f0-4694-cb89-2fa8b6fde015",
        "colab": {
          "base_uri": "https://localhost:8080/",
          "height": 107
        }
      },
      "source": [
        "df = pd.read_csv('MLraw_data_group_period_separate.csv')\n",
        "df['target'] = df['target'].astype('category')\n",
        "df['channel'] = df['channel'].astype('category')\n",
        "# df['month'] = df['month'].astype('category')\n",
        "df['cost'] = df['cost']*1000\n",
        "df['cost_log'] = np.log(df['cost']+1)\n",
        "df = df.drop(columns='reach_per')\n",
        "# df = df.drop(columns='cost')\n",
        "\n",
        "X = pd.get_dummies(df, prefix_sep='_')\n",
        "train, test = train_test_split(X, test_size=0.2)\n",
        "\n",
        "train_labels = train.pop('grp')\n",
        "test_labels = test.pop('grp')\n",
        "\n",
        "cost_labels = train.pop('cost')\n",
        "cost_test_labels = test.pop('cost')\n",
        "train.columns\n",
        "# sns.kdeplot(df['cost_log'])\n"
      ],
      "execution_count": 0,
      "outputs": [
        {
          "output_type": "execute_result",
          "data": {
            "text/plain": [
              "Index(['month', 'cost_log', 'channel_CJE&M', 'channel_KBSN', 'channel_MBCPLUS',\n",
              "       'channel_SBS미디어넷', 'channel_etc', 'channel_종합편성채널', 'channel_지상파3개채널',\n",
              "       'target_769', 'target_1019', 'target_2029', 'target_3039',\n",
              "       'target_4049', 'target_5059', 'target_6069'],\n",
              "      dtype='object')"
            ]
          },
          "metadata": {
            "tags": []
          },
          "execution_count": 38
        }
      ]
    },
    {
      "cell_type": "code",
      "metadata": {
        "id": "6pi8lUdONDer",
        "colab_type": "code",
        "outputId": "64e8f203-1769-46df-cb40-5d2b1b8d27f8",
        "colab": {
          "base_uri": "https://localhost:8080/",
          "height": 251
        }
      },
      "source": [
        "scaler = RobustScaler()\n",
        "X_train_scaled = scaler.fit_transform(train)\n",
        "X_test_scaled = scaler.transform(test)\n",
        "X_train_scaled"
      ],
      "execution_count": 0,
      "outputs": [
        {
          "output_type": "execute_result",
          "data": {
            "text/plain": [
              "array([[ 0.        , -0.85423981,  0.        , ...,  0.        ,\n",
              "         1.        ,  0.        ],\n",
              "       [ 1.        ,  0.27747347,  0.        , ...,  0.        ,\n",
              "         0.        ,  1.        ],\n",
              "       [ 0.        ,  0.05436769,  0.        , ...,  0.        ,\n",
              "         0.        ,  0.        ],\n",
              "       ...,\n",
              "       [ 0.        ,  0.77281775,  0.        , ...,  0.        ,\n",
              "         0.        ,  0.        ],\n",
              "       [ 0.        ,  1.8718658 ,  0.        , ...,  1.        ,\n",
              "         0.        ,  0.        ],\n",
              "       [ 0.        ,  0.28049462,  0.        , ...,  1.        ,\n",
              "         0.        ,  0.        ]])"
            ]
          },
          "metadata": {
            "tags": []
          },
          "execution_count": 39
        }
      ]
    },
    {
      "cell_type": "code",
      "metadata": {
        "id": "mI9w3zL6jDjf",
        "colab_type": "code",
        "outputId": "bc1c8bc5-4490-42ed-ab66-dfc277ec3303",
        "colab": {
          "base_uri": "https://localhost:8080/",
          "height": 283
        }
      },
      "source": [
        "grp_train = pd.DataFrame(X_train_scaled, columns=['month', 'cost', 'channel_CJE&M', 'channel_KBSN', 'channel_MBCPLUS',\n",
        "       'channel_SBS미디어넷', 'channel_etc', 'channel_종합편성채널', 'channel_지상파3개채널',\n",
        "       'target_769', 'target_1019', 'target_2029', 'target_3039',\n",
        "       'target_4049', 'target_5059', 'target_6069'])\n",
        "\n",
        "grp_test = pd.DataFrame(X_test_scaled, columns=['month', 'cost', 'channel_CJE&M', 'channel_KBSN', 'channel_MBCPLUS',\n",
        "       'channel_SBS미디어넷', 'channel_etc', 'channel_종합편성채널', 'channel_지상파3개채널',\n",
        "       'target_769', 'target_1019', 'target_2029', 'target_3039',\n",
        "       'target_4049', 'target_5059', 'target_6069'])\n",
        "sns.kdeplot(df['cost_log'])\n",
        "sns.kdeplot(grp_train['cost'])\n"
      ],
      "execution_count": 0,
      "outputs": [
        {
          "output_type": "execute_result",
          "data": {
            "text/plain": [
              "<matplotlib.axes._subplots.AxesSubplot at 0x7fb00593ea58>"
            ]
          },
          "metadata": {
            "tags": []
          },
          "execution_count": 40
        },
        {
          "output_type": "display_data",
          "data": {
            "image/png": "[encoded data removed]",
            "text/plain": [
              "<Figure size 432x288 with 1 Axes>"
            ]
          },
          "metadata": {
            "tags": []
          }
        }
      ]
    },
    {
      "cell_type": "code",
      "metadata": {
        "id": "3EeI_lf8TZpa",
        "colab_type": "code",
        "outputId": "772a0f9e-9f38-4ee1-b83b-8411510cba3b",
        "colab": {
          "base_uri": "https://localhost:8080/",
          "height": 269
        }
      },
      "source": [
        "grp_model = build_grp_model(grp_train)\n",
        "grp_model.summary()"
      ],
      "execution_count": 0,
      "outputs": [
        {
          "output_type": "stream",
          "text": [
            "Model: \"sequential_5\"\n",
            "_________________________________________________________________\n",
            "Layer (type)                 Output Shape              Param #   \n",
            "=================================================================\n",
            "dense_15 (Dense)             (None, 128)               2176      \n",
            "_________________________________________________________________\n",
            "dense_16 (Dense)             (None, 64)                8256      \n",
            "_________________________________________________________________\n",
            "dense_17 (Dense)             (None, 1)                 65        \n",
            "=================================================================\n",
            "Total params: 10,497\n",
            "Trainable params: 10,497\n",
            "Non-trainable params: 0\n",
            "_________________________________________________________________\n"
          ],
          "name": "stdout"
        }
      ]
    },
    {
      "cell_type": "code",
      "metadata": {
        "id": "sh4eYKsNT0En",
        "colab_type": "code",
        "outputId": "3bf3bc6f-77e7-4d41-9f70-4bcbd02dde2b",
        "colab": {
          "base_uri": "https://localhost:8080/",
          "height": 197
        }
      },
      "source": [
        "example_batch = grp_train[:10]\n",
        "example_result = grp_model.predict(example_batch)\n",
        "example_result"
      ],
      "execution_count": 0,
      "outputs": [
        {
          "output_type": "execute_result",
          "data": {
            "text/plain": [
              "array([[ 0.05741927],\n",
              "       [ 0.23147726],\n",
              "       [-0.22191057],\n",
              "       [ 0.04602899],\n",
              "       [ 0.4602313 ],\n",
              "       [ 0.12880881],\n",
              "       [ 0.11259504],\n",
              "       [ 0.08905183],\n",
              "       [ 0.00981657],\n",
              "       [ 0.1914328 ]], dtype=float32)"
            ]
          },
          "metadata": {
            "tags": []
          },
          "execution_count": 63
        }
      ]
    },
    {
      "cell_type": "code",
      "metadata": {
        "id": "16EfSihkWzFh",
        "colab_type": "code",
        "outputId": "fee327af-a3e3-4680-9496-05f5a54484da",
        "colab": {
          "base_uri": "https://localhost:8080/",
          "height": 750
        }
      },
      "source": [
        "early_stop = keras.callbacks.EarlyStopping(monitor='val_loss', patience=10)\n",
        "EPOCHS = 300\n",
        "history = grp_model.fit(grp_train, train_labels, epochs=EPOCHS,\n",
        "                    validation_split = 0.2, verbose=0, callbacks=[early_stop, PrintDot()])\n",
        "plot_history(history)\n",
        "grp_model.save('grp_model.h5')"
      ],
      "execution_count": 0,
      "outputs": [
        {
          "output_type": "stream",
          "text": [
            "\n",
            "............................."
          ],
          "name": "stdout"
        },
        {
          "output_type": "display_data",
          "data": {
            "image/png": "[encoded data removed]",
            "text/plain": [
              "<Figure size 576x864 with 2 Axes>"
            ]
          },
          "metadata": {
            "tags": []
          }
        }
      ]
    },
    {
      "cell_type": "code",
      "metadata": {
        "id": "TOLZxP0f6CK0",
        "colab_type": "code",
        "outputId": "26e43f12-6045-477a-c060-1552415893f1",
        "colab": {
          "base_uri": "https://localhost:8080/",
          "height": 53
        }
      },
      "source": [
        "loss, mae, mse = grp_model.evaluate(grp_test, test_labels, verbose=2)\n",
        "\n",
        "print(\"테스트 세트의 평균 절대 오차: {:5.2f} MPG\".format(mae))"
      ],
      "execution_count": 0,
      "outputs": [
        {
          "output_type": "stream",
          "text": [
            "64601/64601 - 2s - loss: 488.0301 - mean_absolute_error: 9.1906 - mean_squared_error: 488.0304\n",
            "테스트 세트의 평균 절대 오차:  9.19 MPG\n"
          ],
          "name": "stdout"
        }
      ]
    },
    {
      "cell_type": "code",
      "metadata": {
        "id": "_IJduvoT0J7-",
        "colab_type": "code",
        "outputId": "7299b549-9a70-40d5-9e18-01cd33a852a1",
        "colab": {
          "base_uri": "https://localhost:8080/",
          "height": 298
        }
      },
      "source": [
        "test_grp_predictions = grp_model.predict(grp_test).flatten()\n",
        "\n",
        "plt.scatter(cost_test_labels, test_grp_predictions)\n",
        "plt.xlabel('True Values [MPG]')\n",
        "plt.ylabel('Predictions [MPG]')"
      ],
      "execution_count": 0,
      "outputs": [
        {
          "output_type": "execute_result",
          "data": {
            "text/plain": [
              "Text(0, 0.5, 'Predictions [MPG]')"
            ]
          },
          "metadata": {
            "tags": []
          },
          "execution_count": 66
        },
        {
          "output_type": "display_data",
          "data": {
            "image/png": "[encoded data removed]",
            "text/plain": [
              "<Figure size 432x288 with 1 Axes>"
            ]
          },
          "metadata": {
            "tags": []
          }
        }
      ]
    },
    {
      "cell_type": "code",
      "metadata": {
        "id": "XTLy-GFG3dpz",
        "colab_type": "code",
        "outputId": "3615d9ae-073e-49c6-b0ba-101f4c4eb603",
        "colab": {
          "base_uri": "https://localhost:8080/",
          "height": 296
        }
      },
      "source": [
        "plt.scatter(cost_test_labels, test_labels)"
      ],
      "execution_count": 0,
      "outputs": [
        {
          "output_type": "execute_result",
          "data": {
            "text/plain": [
              "<matplotlib.collections.PathCollection at 0x7fb005549828>"
            ]
          },
          "metadata": {
            "tags": []
          },
          "execution_count": 46
        },
        {
          "output_type": "display_data",
          "data": {
            "image/png": "[encoded data removed]",
            "text/plain": [
              "<Figure size 432x288 with 1 Axes>"
            ]
          },
          "metadata": {
            "tags": []
          }
        }
      ]
    },
    {
      "cell_type": "code",
      "metadata": {
        "id": "4pXlUQKg0Yz-",
        "colab_type": "code",
        "outputId": "a2b4bb55-b1b4-443c-8c11-cfecb8027f73",
        "colab": {
          "base_uri": "https://localhost:8080/",
          "height": 298
        }
      },
      "source": [
        "grp_test2 = pd.read_csv('grp_test.csv')\n",
        "grp_test2 = grp_test2.drop(columns='Unnamed: 0')\n",
        "grp_test2['target'] = grp_test2['target'].astype('category')\n",
        "grp_test2['channel'] = grp_test2['channel'].astype('category')\n",
        "grp_test2['cost'] = grp_test2['cost']*1000\n",
        "grp_test2['cost_log'] = np.log(grp_test2['cost']+1)\n",
        "grp_test2['cost_log']\n",
        "grp = pd.get_dummies(grp_test2, prefix_sep='_')\n",
        "cost_label = grp.pop('cost')\n",
        "grp\n",
        "X_test_scaled = scaler.transform(grp)\n",
        "X_test_scaled\n",
        "\n",
        "grp_testing = pd.DataFrame(X_test_scaled, columns=['month', 'cost', 'channel_CJE&M', 'channel_KBSN', 'channel_MBCPLUS',\n",
        "       'channel_SBS미디어넷', 'channel_etc', 'channel_종합편성채널', 'channel_지상파3개채널',\n",
        "       'target_769', 'target_1019', 'target_2029', 'target_3039',\n",
        "       'target_4049', 'target_5059', 'target_6069'])\n",
        "grp_testing\n",
        "sns.kdeplot(grp_test2['cost_log'])\n",
        "sns.kdeplot(grp_testing['cost'])\n",
        "test_grp_predictions = grp_model.predict(grp_testing).flatten()\n",
        "test_grp_predictions\n",
        "grp_predict = pd.DataFrame(test_grp_predictions)\n",
        "reach_test = pd.concat([grp_test2, grp_predict], axis=1)\n",
        "reach_test = reach_test.rename(columns={0:'grp'})\n",
        "reach_test\n",
        "reach_test.to_csv('reach_test.csv')\n",
        "plt.scatter(cost_label, test_grp_predictions)\n"
      ],
      "execution_count": 0,
      "outputs": [
        {
          "output_type": "execute_result",
          "data": {
            "text/plain": [
              "<matplotlib.collections.PathCollection at 0x7fb005832fd0>"
            ]
          },
          "metadata": {
            "tags": []
          },
          "execution_count": 67
        },
        {
          "output_type": "display_data",
          "data": {
            "image/png": "[encoded data removed]",
            "text/plain": [
              "<Figure size 432x288 with 1 Axes>"
            ]
          },
          "metadata": {
            "tags": []
          }
        }
      ]
    }
  ]
}